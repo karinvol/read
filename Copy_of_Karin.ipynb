{
  "nbformat": 4,
  "nbformat_minor": 0,
  "metadata": {
    "colab": {
      "name": "Copy of Karin.ipynb",
      "provenance": [],
      "collapsed_sections": []
    },
    "kernelspec": {
      "name": "python3",
      "display_name": "Python 3"
    }
  },
  "cells": [
    {
      "cell_type": "code",
      "metadata": {
        "id": "rEHcB3kqyHZ6",
        "colab_type": "code",
        "outputId": "711b01bc-eb15-42da-fc7a-c074c4910559",
        "colab": {
          "base_uri": "https://localhost:8080/",
          "height": 356
        }
      },
      "source": [
        "import tensorflow as tf\n",
        "\n",
        "# After every epoch the function goes here and checks if the accuracy is over 99%.\n",
        "#The log is an object the result of describing every iteration.\n",
        "class myCallback(tf.keras.callbacks.Callback):\n",
        "  def on_epoch_end(self, epoch, logs={}):\n",
        "    if(logs.get('acc')>0.99): # TODO - Change this to get the required accuracy\n",
        "      print(\"\\nReached 99% accuracy so cancelling training!\")\n",
        "      self.model.stop_training = True\n",
        "\n",
        "# Training set database - photos of\n",
        "mnist = tf.keras.datasets.mnist\n",
        
        "# Fill traing database into variables - the function divides the set into 2 sets:\n",
        "# train and test and uses the train to learn examples and the test to test its accuracy\n",
        "# x - input, y - output\n",
        "(x_train, y_train),(x_test, y_test) = mnist.load_data()\n",
        "x_train, x_test = x_train / 255.0, x_test / 255.0\n",
        "\n",
        "callbacks = myCallback()\n",
        "\n",
        "\n",
        "# model = tf.keras.models.Sequential([\n",
        "#   tf.keras.layers.Flatten(input_shape=(28, 28)),\n",
        "#   tf.keras.layers.Dense(512, activation=tf.nn.relu),\n",
        "#   tf.keras.layers.Dense(10, activation=tf.nn.softmax)\n",
        "# ])\n",
        "# The model is the learning object - the sequence of learning is:\n",
        "model = tf.keras.models.Sequential()\n",
        "# Takes an array of 28*28 and turns it to a one dimensional array.\n",
        "model.add(tf.keras.layers.Flatten(input_shape=(28, 28)))\n",
        "# Adds to the probabilaty of important features according to the training.\n",
        "model.add(tf.keras.layers.Dense(512, activation=tf.nn.relu))\n",
        "model.add(tf.keras.layers.Dense(10, activation=tf.nn.softmax))\n",
        "\n",
        "# Insert parameters for learning from training set\n",
        "model.compile(optimizer='adam',\n",
        "              loss='sparse_categorical_crossentropy',\n",
        "              metrics=['accuracy'])\n",
        "\n",
        "# An epoch is an iteration over the entire training and test data provided. The\n",
        "# model not trained for a number of iterations given by epochs, but merely until\n",
        "# the epoch of index epochs is reached.\n",
        "model.fit(x_train, y_train, epochs=10, callbacks=[callbacks])\n",
        "\n",
        "\n",
        "\n",
        "\n"
      ],
      "execution_count": 0,
      "outputs": [
        {
          "output_type": "stream",
          "text": [
            "Downloading data from https://storage.googleapis.com/tensorflow/tf-keras-datasets/mnist.npz\n",
            "11493376/11490434 [==============================] - 0s 0us/step\n",
            "WARNING:tensorflow:From /usr/local/lib/python3.6/dist-packages/tensorflow_core/python/ops/resource_variable_ops.py:1630: calling BaseResourceVariable.__init__ (from tensorflow.python.ops.resource_variable_ops) with constraint is deprecated and will be removed in a future version.\n",
            "Instructions for updating:\n",
            "If using Keras pass *_constraint arguments to layers.\n",
            "Train on 60000 samples\n",
            "Epoch 1/10\n",
            "60000/60000 [==============================] - 10s 162us/sample - loss: 0.2012 - acc: 0.9404\n",
            "Epoch 2/10\n",
            "60000/60000 [==============================] - 10s 159us/sample - loss: 0.0800 - acc: 0.9756\n",
            "Epoch 3/10\n",
            "60000/60000 [==============================] - 10s 161us/sample - loss: 0.0529 - acc: 0.9832\n",
            "Epoch 4/10\n",
            "60000/60000 [==============================] - 9s 150us/sample - loss: 0.0370 - acc: 0.9886\n",
            "Epoch 5/10\n",
            "59616/60000 [============================>.] - ETA: 0s - loss: 0.0267 - acc: 0.9913\n",
            "Reached 99% accuracy so cancelling training!\n",
            "60000/60000 [==============================] - 9s 153us/sample - loss: 0.0269 - acc: 0.9913\n"
          ],
          "name": "stdout"
        },
        {
          "output_type": "execute_result",
          "data": {
            "text/plain": [
              "<tensorflow.python.keras.callbacks.History at 0x7f3e7cc07e10>"
            ]
          },
          "metadata": {
            "tags": []
          },
          "execution_count": 1
        }
      ]
    },
    {
      "cell_type": "code",
      "metadata": {
        "id": "6I5fv4U8CyQq",
        "colab_type": "code",
        "outputId": "fc963cba-f02a-401f-85ed-aec106492dd9",
        "colab": {
          "base_uri": "https://localhost:8080/",
          "height": 286
        }
      },
      "source": [
        "import numpy\n",
        "\n",
        "currImg = x_test[2] # TODO - Alter this for different photos\n",
        "#Creats a 3D array \n",
        "currImgArr = currImg[numpy.newaxis, ...]\n",
        "\n",
        "#The function reads the number in the picture\n",
        "predictedNum = numpy.argmax(model.predict(currImgArr))\n",
        "print(\"The string is: \", predictedNum)\n",
        "\n",
        "#Presenting the picture\n",
        "from matplotlib import pyplot as plt\n",
        "plt.imshow(currImg, interpolation='nearest')\n",
        "plt.show()"
      ],
      "execution_count": 0,
      "outputs": [
        {
          "output_type": "stream",
          "text": [
            "The string is:  1\n"
          ],
          "name": "stdout"
        },
        {
          "output_type": "display_data",
          "data": {
            "image/png": "[encoded data removed]",
            "text/plain": [
              "<Figure size 432x288 with 1 Axes>"
            ]
          },
          "metadata": {
            "tags": []
          }
        }
      ]
    },
    {
      "cell_type": "code",
      "metadata": {
        "id": "WGWEhKJU_aSi",
        "colab_type": "code",
        "outputId": "236e2255-cbd7-46ac-f82c-063a1b7cfeb2",
        "colab": {
          "base_uri": "https://localhost:8080/",
          "height": 84
        }
      },
      "source": [
        "\n",
        "import numpy\n",
        "import PIL\n",
        "import cv2\n",
        "\n",
        "currImg = '/content/2.png' #TODO - Alter this for different photos\n",
        "\n",
        "print(\"Processing image\")  \n",
        "#loading the image\n",
        "im = cv2.imread(currImg, 0) \n",
        "print(im.shape) \n",
        "#Turns the image to the size of 28*28\n",
        "im = cv2.resize(im,  (28, 28))\n",
        "print(model.predict(im.reshape(1,28,28)))\n",
        "numpy.argmax(model.predict(im.reshape(1,28,28)))\n",
        "\n",
        "\n"
      ],
      "execution_count": 0,
      "outputs": [
        {
          "output_type": "stream",
          "text": [
            "Processing image\n",
            "(3500, 3500)\n",
            "[[0. 0. 1. 0. 0. 0. 0. 0. 0. 0.]]\n"
          ],
          "name": "stdout"
        },
        {
          "output_type": "execute_result",
          "data": {
            "text/plain": [
              "2"
            ]
          },
          "metadata": {
            "tags": []
          },
          "execution_count": 38
        }
      ]
    }
  ]
}
